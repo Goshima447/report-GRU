{
 "cells": [
  {
   "cell_type": "code",
   "execution_count": null,
   "id": "5602b6ee-ad7c-4191-a814-83d3012b4eb7",
   "metadata": {},
   "outputs": [],
   "source": [
    "import load_dataset_1week\n",
    "dataset = load_dataset_1week.load_dataset_minute(5161)"
   ]
  },
  {
   "cell_type": "code",
   "execution_count": null,
   "id": "cab8e7e7-487c-4a24-b16e-946fe43fc11b",
   "metadata": {},
   "outputs": [],
   "source": [
    "feature = dataset.drop(columns=['datetime', 'internet'])\n",
    "target = dataset[['datetime', 'internet']]"
   ]
  },
  {
   "cell_type": "code",
   "execution_count": null,
   "id": "ccca38ba-8a6a-44a4-aba5-30943b70d849",
   "metadata": {},
   "outputs": [],
   "source": [
    "import split_data\n",
    "train_x, test_x, train_y, test_y, y_datetime = split_data.split_data_8_2(feature, target)"
   ]
  },
  {
   "cell_type": "code",
   "execution_count": null,
   "id": "c2aca1a8-e720-4fd8-8d2c-b2efdf01ebca",
   "metadata": {},
   "outputs": [],
   "source": [
    "import normalize_train_test\n",
    "train_x, test_x, train_y, test_y, mms_y = normalize_train_test.apply_MMS(train_x, test_x, train_y, test_y)"
   ]
  },
  {
   "cell_type": "code",
   "execution_count": null,
   "id": "66c48e3c-6952-4036-8868-3595e8ee6875",
   "metadata": {},
   "outputs": [],
   "source": [
    "import set_timesteps\n",
    "timesteps = 36\n",
    "x_train, x_test, y_train, y_test = set_timesteps.create_timeseries_data(train_x, test_x, train_y, test_y, timesteps)"
   ]
  },
  {
   "cell_type": "code",
   "execution_count": null,
   "id": "d4877a66-c4fe-4801-9c07-17f66f94871b",
   "metadata": {},
   "outputs": [],
   "source": [
    "import build_model\n",
    "time_unit = 'minute'\n",
    "model, history = build_model.build_model_GRU_Optuna(x_train, y_train, timesteps, time_unit)"
   ]
  },
  {
   "cell_type": "code",
   "execution_count": null,
   "id": "de4dd4b4-2232-4019-864f-f116f269eb73",
   "metadata": {},
   "outputs": [],
   "source": [
    "import matplotlib.pyplot as plt\n",
    "plt.style.use('ggplot') #グラフスタイル\n",
    "\n",
    "plt.figure(figsize=(15, 8))\n",
    "plt.plot(history.history['loss'], label='Train Loss')\n",
    "plt.plot(history.history['val_loss'], label='Valid Loss')\n",
    "plt.title('Model Loss (GRU)')\n",
    "plt.ylabel('Loss')\n",
    "plt.xlabel('Epochs')\n",
    "plt.legend(loc='upper right')\n",
    "\n",
    "# y軸の上限値を指定（例：0から1.0までの範囲に設定）\n",
    "plt.ylim(0, 0.1)\n",
    "plt.show()"
   ]
  },
  {
   "cell_type": "code",
   "execution_count": null,
   "id": "2e7111a8-f101-41ed-b3cd-570d99799810",
   "metadata": {},
   "outputs": [],
   "source": [
    "# テストデータに対する予測を行い、評価結果を表示\n",
    "import evaluate_model_performance\n",
    "y_test_pred, y_test_true = evaluate_model_performance.evaluate_model(x_test, y_test, mms_y, model)"
   ]
  },
  {
   "cell_type": "code",
   "execution_count": null,
   "id": "ffa1555b-34f8-4010-87ac-f487b740be6d",
   "metadata": {},
   "outputs": [],
   "source": [
    "# テストデータ(青)と予測(黄色)を描画\n",
    "datetime = y_datetime[timesteps:]\n",
    "\n",
    "plt.figure(figsize=(30,8))\n",
    "plt.plot(datetime, y_test_true, linestyle='--', color='blue', label='true')\n",
    "plt.plot(datetime, y_test_pred, color='orange', label='pred')\n",
    "plt.ylabel('value')\n",
    "plt.xlabel('datetime')\n",
    "plt.legend(loc='upper right')\n",
    "plt.show()"
   ]
  }
 ],
 "metadata": {
  "kernelspec": {
   "display_name": "Python 3.8 (local_GPU)",
   "language": "python",
   "name": "local_gpu"
  },
  "language_info": {
   "codemirror_mode": {
    "name": "ipython",
    "version": 3
   },
   "file_extension": ".py",
   "mimetype": "text/x-python",
   "name": "python",
   "nbconvert_exporter": "python",
   "pygments_lexer": "ipython3",
   "version": "3.8.20"
  }
 },
 "nbformat": 4,
 "nbformat_minor": 5
}
