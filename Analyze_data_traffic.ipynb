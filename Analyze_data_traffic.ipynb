{
 "cells": [
  {
   "cell_type": "code",
   "execution_count": null,
   "id": "4c28db53-83eb-486f-8532-29534cb709e2",
   "metadata": {},
   "outputs": [],
   "source": [
    "# データセット読み込みと整形\n",
    "import load_sms_call_internet_mi\n",
    "\n",
    "time_unit = 'minute'\n",
    "CellID = 1\n",
    "\n",
    "train, test, y_datetime = load_sms_call_internet_mi.load_dataset_ID(time_unit, CellID)"
   ]
  },
  {
   "cell_type": "code",
   "execution_count": null,
   "id": "f0e78715-1005-4975-87c1-c87d0ed3b473",
   "metadata": {},
   "outputs": [],
   "source": [
    "# xに説明変数を、yに目的変数を格納\n",
    "train_x = train.drop(columns=['internet'])\n",
    "train_y = train['internet']\n",
    "test_x = test.drop(columns=['internet'])\n",
    "test_y = test['internet']"
   ]
  },
  {
   "cell_type": "code",
   "execution_count": null,
   "id": "474f63d3-215d-4299-9a09-04da0580d66f",
   "metadata": {},
   "outputs": [],
   "source": [
    "# 値を0～1の範囲に正規化し、pandas DataframeからNumPy配列に変更（mms_yは評価指標に使用）\n",
    "import normalize_train_test\n",
    "train_x, test_x, train_y, test_y, mms_y = normalize_train_test.apply_MMS(train_x, test_x, train_y, test_y)"
   ]
  },
  {
   "cell_type": "code",
   "execution_count": null,
   "id": "d23b98a4-c7e1-4e87-b40a-fd84a1c11461",
   "metadata": {},
   "outputs": [],
   "source": [
    "# [\"データ数\", \"timesteps\", \"特徴量数\"]の三次元構造に変換（x_train, x_testに名称変更）\n",
    "# timesteps時間以降のデータを目的変数に設定（y_train, y_testに名称変更）\n",
    "import set_timesteps\n",
    "timesteps = 24*6\n",
    "x_train, x_test, y_train, y_test = set_timesteps.create_timeseries_data(train_x, test_x, train_y, test_y, timesteps)"
   ]
  },
  {
   "cell_type": "code",
   "execution_count": null,
   "id": "2c82bb29-08ef-499f-a21f-512441b4ded3",
   "metadata": {
    "scrolled": true
   },
   "outputs": [],
   "source": [
    "# モデル構築\n",
    "import build_model\n",
    "model, history = build_model.build_model_GRU_Optuna(x_train, y_train, timesteps, time_unit)"
   ]
  },
  {
   "cell_type": "code",
   "execution_count": null,
   "id": "1b9d4899-6b28-4519-ba7f-d1fef1c8e0a9",
   "metadata": {},
   "outputs": [],
   "source": [
    "import matplotlib.pyplot as plt\n",
    "plt.style.use('ggplot') #グラフスタイル\n",
    "\n",
    "plt.figure(figsize=(15, 8))\n",
    "plt.plot(history.history['loss'], label='Train Loss')\n",
    "plt.plot(history.history['val_loss'], label='Valid Loss')\n",
    "plt.title('Model Loss (GRU)')\n",
    "plt.ylabel('Loss')\n",
    "plt.xlabel('Epochs')\n",
    "plt.legend(loc='upper right')\n",
    "\n",
    "# y軸の上限値を指定（例：0から1.0までの範囲に設定）\n",
    "plt.ylim(0, 0.1)\n",
    "plt.show()"
   ]
  },
  {
   "cell_type": "code",
   "execution_count": null,
   "id": "3b0035d1-cb68-45df-ac34-70124e885f0d",
   "metadata": {},
   "outputs": [],
   "source": [
    "# テストデータに対する予測を行い、評価結果を表示\n",
    "import evaluate_model_performance\n",
    "y_test_pred, y_test_true = evaluate_model_performance.evaluate_model(x_test, y_test, mms_y, model)"
   ]
  },
  {
   "cell_type": "code",
   "execution_count": null,
   "id": "d050e7e1-2f79-40ca-81d1-aa2d6063b99e",
   "metadata": {},
   "outputs": [],
   "source": [
    "from matplotlib.dates import AutoDateLocator, DateFormatter\n",
    "import pandas as pd\n",
    "import matplotlib.pyplot as plt\n",
    "\n",
    "# datetimeの型を確認・変換\n",
    "datetime = y_datetime[timesteps:].reset_index(drop=True)\n",
    "datetime = pd.to_datetime(datetime)\n",
    "\n",
    "# 全体のフォントサイズを設定\n",
    "plt.rcParams.update({'font.size': 16})\n",
    "\n",
    "# グラフの描画\n",
    "plt.figure(figsize=(30, 8))\n",
    "plt.plot(datetime, y_test_true, linestyle='--', color='blue', label='true')\n",
    "plt.plot(datetime, y_test_pred, color='orange', label='pred')\n",
    "\n",
    "# x軸の目盛りを調整\n",
    "ax = plt.gca() \n",
    "locator = AutoDateLocator() \n",
    "formatter = DateFormatter(\"%Y-%m-%d\") \n",
    "ax.xaxis.set_major_locator(locator)\n",
    "ax.xaxis.set_major_formatter(formatter)\n",
    "\n",
    "# ラベルを回転して見やすくする\n",
    "plt.xticks(rotation=45)\n",
    "\n",
    "# その他設定\n",
    "plt.ylabel('value', labelpad=30)\n",
    "plt.xlabel('datetime', labelpad=30)\n",
    "plt.legend(loc='upper right')\n",
    "\n",
    "plt.ylim(0, 30)\n",
    "plt.show()"
   ]
  }
 ],
 "metadata": {
  "kernelspec": {
   "display_name": "Python 3.8 (local_GPU)",
   "language": "python",
   "name": "local_gpu"
  },
  "language_info": {
   "codemirror_mode": {
    "name": "ipython",
    "version": 3
   },
   "file_extension": ".py",
   "mimetype": "text/x-python",
   "name": "python",
   "nbconvert_exporter": "python",
   "pygments_lexer": "ipython3",
   "version": "3.8.20"
  }
 },
 "nbformat": 4,
 "nbformat_minor": 5
}
